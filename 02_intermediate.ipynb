{
  "nbformat": 4,
  "nbformat_minor": 0,
  "metadata": {
    "colab": {
      "provenance": [],
      "toc_visible": true,
      "authorship_tag": "ABX9TyMzU1bZMNtzzob0NDg/Dzq1",
      "include_colab_link": true
    },
    "kernelspec": {
      "name": "python3",
      "display_name": "Python 3"
    },
    "language_info": {
      "name": "python"
    }
  },
  "cells": [
    {
      "cell_type": "markdown",
      "metadata": {
        "id": "view-in-github",
        "colab_type": "text"
      },
      "source": [
        "<a href=\"https://colab.research.google.com/github/Bushraturk/04_Assigments/blob/main/02_intermediate.ipynb\" target=\"_parent\"><img src=\"https://colab.research.google.com/assets/colab-badge.svg\" alt=\"Open In Colab\"/></a>"
      ]
    },
    {
      "cell_type": "markdown",
      "source": [
        "02\n",
        "# New Section"
      ],
      "metadata": {
        "id": "ODnn1upK32d_"
      }
    },
    {
      "cell_type": "code",
      "source": [],
      "metadata": {
        "id": "pVhdrS1V9EpJ"
      },
      "execution_count": null,
      "outputs": []
    },
    {
      "cell_type": "code",
      "source": [
        "#Right Problem: High Low\n",
        "# We want you to gain more experience working with control flow and Booleans in Python. To do this, we are going to have you develop a game! The game is called High-Low and the way it's played goes as follows:\n",
        "\n",
        "# Two numbers are generated from 1 to 100 (inclusive on both ends): one for you and one for a computer, who will be your opponent. You can see your number, but not the computer's!\n",
        "\n",
        "# You make a guess, saying your number is either higher than or lower than the computer's number\n",
        "\n",
        "# If your guess matches the truth (ex. you guess your number is higher, and then your number is actually higher than the computer's), you get a point!\n",
        "\n",
        "# These steps make up one round of the game. The game is over after all rounds have been played.\n",
        "\n",
        "# We've provided a sample run below.\n",
        "\n",
        "#solution\n",
        "import random\n",
        "\n",
        "round = 5\n",
        "Score = 0\n",
        "\n",
        "\n",
        "print(\"Welcome to the High-Low Game!\")\n",
        "print(\"********************************\")\n",
        "for i in range(round):\n",
        "  your_num = random.randint(1, 100)\n",
        "  your_computer = random.randint(1, 100)\n",
        "  print(\"Your number is: \", your_num)\n",
        "  print(\"Computer's number is: \", your_computer)\n",
        "\n",
        "  choice:str = input(\"Do you think your number is higher or lower than the computer's number? \")\n",
        "  higher_and_correct: bool = choice == \"higher\" and your_num > your_computer\n",
        "  lower_and_correct: bool = choice == \"higher\" and your_num < your_computer\n",
        "\n",
        "  if higher_and_correct or lower_and_correct:\n",
        "    print(\"You were right! The computer's number was\", your_computer)\n",
        "    Score += 1\n",
        "\n",
        "  else:\n",
        "    print(\"Aww, that's incorrect. The computer's number was\", your_computer)\n",
        "\n",
        "    print(\"Your round\", i + 1, \"is over.\")\n",
        "    print(\"********************************\")\n",
        "\n",
        "    print(\"Your score is now\", Score )\n",
        "    print(\"********************************\")\n",
        "    print()\n",
        "\n",
        "print(\"Thanks for playing!\")\n",
        "\n",
        "if \"__name___\" == \"__main__\":\n",
        "                main()\n",
        "\n",
        "\n"
      ],
      "metadata": {
        "colab": {
          "base_uri": "https://localhost:8080/"
        },
        "id": "B8eM949_J_um",
        "outputId": "b32bcf38-2af8-496b-bef9-60a213770df0"
      },
      "execution_count": 31,
      "outputs": [
        {
          "output_type": "stream",
          "name": "stdout",
          "text": [
            "Welcome to the High-Low Game!\n",
            "********************************\n",
            "Your number is:  62\n",
            "Computer's number is:  6\n",
            "Do you think your number is higher or lower than the computer's number? higher\n",
            "You were right! The computer's number was 6\n",
            "Your number is:  93\n",
            "Computer's number is:  23\n",
            "Do you think your number is higher or lower than the computer's number? higher\n",
            "You were right! The computer's number was 23\n",
            "Your number is:  26\n",
            "Computer's number is:  6\n",
            "Do you think your number is higher or lower than the computer's number? lower\n",
            "Aww, that's incorrect. The computer's number was 6\n",
            "Your round 3 is over.\n",
            "********************************\n",
            "Your score is now 2\n",
            "********************************\n",
            "\n",
            "Your number is:  31\n",
            "Computer's number is:  61\n",
            "Do you think your number is higher or lower than the computer's number? higher\n",
            "You were right! The computer's number was 61\n",
            "Your number is:  58\n",
            "Computer's number is:  13\n",
            "Do you think your number is higher or lower than the computer's number? higher\n",
            "You were right! The computer's number was 13\n",
            "Thanks for playing!\n"
          ]
        }
      ]
    },
    {
      "cell_type": "code",
      "source": [
        "from typing import Generator\n",
        "print(\"Planetary Weight Calculator\")\n",
        "\n",
        "def main():\n",
        "  print(\"Wellcome to the planetary weight calculator\")\n",
        "  print(\"****************************************\")\n",
        "\n",
        "  earth_weight = float(input(\"Enter your weight on earth: \"))\n",
        "\n",
        "  gravity_factor = {\n",
        "    \"Mercury\": 0.38,\n",
        "    \"Venus\": 0.91,\n",
        "    \"Mars\": 0.38,\n",
        "    \"Jupiter\": 2.3,\n",
        "    \"Saturn\": 0.93,\n",
        "    \"Uranus\": 0.92,\n",
        "    \"Neptune\": 1.1\n",
        "}\n",
        "\n",
        "  print(\"\\nSelect a planet to calculate your weight on:\")\n",
        "  for planet in gravity_factor:\n",
        "   print(f'- {planet}')\n",
        "\n",
        "  selected_planet = input(\"Enter the name of the planet: \").title() # This line was indented, causing unexpected behavior. Removed indentation to align with the loop structure.\n",
        "  if selected_planet in gravity_factor:\n",
        "    new_weight = earth_weight * gravity_factor[selected_planet] # This line was indented, causing unexpected behavior. Removed indentation to align with the if statement.\n",
        "    print(f\"Your weight on {selected_planet} is {new_weight:.2f}kg\")# This line was indented, causing unexpected behavior. Removed indentation to align with the if statement.\n",
        "\n",
        "\n",
        "  else:\n",
        "    print(\"Invalid planet name. Please try again\")\n",
        "\n",
        "if __name__ == \"__main__\":\n",
        "  main()\n",
        "\n",
        "\n",
        "\n"
      ],
      "metadata": {
        "colab": {
          "base_uri": "https://localhost:8080/"
        },
        "id": "EmZBUTV-za-P",
        "outputId": "c45a8968-cef3-4ff9-a0a4-8168e8829ffa"
      },
      "execution_count": 41,
      "outputs": [
        {
          "output_type": "stream",
          "name": "stdout",
          "text": [
            "Planetary Weight Calculator\n",
            "Wellcome to the planetary weight calculator\n",
            "****************************************\n",
            "Enter your weight on earth: 23\n",
            "\n",
            "Select a planet to calculate your weight on:\n",
            "- Mercury\n",
            "- Venus\n",
            "- Mars\n",
            "- Jupiter\n",
            "- Saturn\n",
            "- Uranus\n",
            "- Neptune\n",
            "Enter the name of the planet: venus\n",
            "Your weight on Venus is 20.93kg\n"
          ]
        }
      ]
    },
    {
      "cell_type": "code",
      "source": [
        "print(\"Lists and Dicts\")\n",
        "\n",
        "my_list= [\"Apple\",\"Mango\",\"Orange\",\"Pear\",\"Peach\"]\n",
        "\n",
        "def access_element(my_list, index):\n",
        "  \"\"\"Returns the element at the specified index, or an error message if out of range.\"\"\"\n",
        "  if 0 <= index < len(my_list):\n",
        "    return f'Element at index {index}: {my_list[index]}'\n",
        "  else:\n",
        "    return \"Index out of range\"\n",
        "\n",
        "def modify_element(my_list, index, new_value):\n",
        "  \"\"\"Modifies the element at the specified index with the new value, or an error message if out of range.\"\"\"\n",
        "\n",
        "  if 0 <= index < len(my_list):\n",
        "    old_value = my_list[index]\n",
        "    my_list[index]= new_value\n",
        "    return f'Element at index {index} modified from {old_value} to {new_value}'\n",
        "  else:\n",
        "    return \"Index out of range\"\n",
        "\n",
        "def slice_list(my_list, start, end):\n",
        "  \"\"\"Returns a new list containing the elements from the start index to the end index, or an error message if out of range.\"\"\"\n",
        "  if 0 <= start <len(my_list) and 0 <= end <= len(my_list):\n",
        "    return f'Sliced list: {my_list[start:end]}'\n",
        "\n",
        "  #This return was inside the if statement causing a logical error, also it had a typo\n",
        "  return (\"Invalid slice indices!\")\n",
        "\n",
        "\n",
        "def list_game():\n",
        "  print(\"\\n Wellcome to the list manipulatipon\")\n",
        "  my_list= [\"Apple\",\"Mango\",\"Orange\",\"Pear\",\"Peach\"]\n",
        "  while True:\n",
        "    print(\"Current list\", my_list)\n",
        "    print(\"Select an operation\")\n",
        "    print(\"1. Access Element\")\n",
        "    print(\"2. Modify Element\")\n",
        "    print(\"3. Slice List\")\n",
        "    print(\"4. Quit\")\n",
        "\n",
        "    choice = input(\"Enter your choice (1-4): \")\n",
        "\n",
        "    if choice == \"1\":\n",
        "      index = int(input(\"Enter the index of the element you want to access: \"))\n",
        "      print(access_element(my_list, index))\n",
        "\n",
        "    elif choice == \"2\":\n",
        "      index = int(input(\"Enter the index of the element you want to modify: \"))\n",
        "      new_value = input(\"Enter the new value for the element: \")\n",
        "      print(modify_element(my_list, index, new_value))\n",
        "\n",
        "    elif choice == \"3\":\n",
        "      start = int(input(\"Enter the start index of the slice: \"))\n",
        "      end = int(input(\"Enter the end index of the slice: \"))\n",
        "      print(slice_list(my_list, start, end))\n",
        "\n",
        "\n",
        "    elif choice == \"4\":\n",
        "      print(\"Exiting the game. Goodbye!\")\n",
        "      break\n",
        "\n",
        "    else:\n",
        "      print(\"Invalid choice. Please select a valid option (1-4).\")\n",
        "\n",
        "#You were calling main() here but it was not defined, also \"__name__\" should be \"__name__\"\n",
        "if __name__ == \"__main__\":\n",
        "  list_game()"
      ],
      "metadata": {
        "colab": {
          "base_uri": "https://localhost:8080/"
        },
        "id": "94HiSUhAxzHm",
        "outputId": "1cca8fa8-0ca2-4f24-9a0d-8f877ed0a4c7"
      },
      "execution_count": 37,
      "outputs": [
        {
          "output_type": "stream",
          "name": "stdout",
          "text": [
            "Lists and Dicts\n",
            "\n",
            " Wellcome to the list manipulatipon\n",
            "Current list ['Apple', 'Mango', 'Orange', 'Pear', 'Peach']\n",
            "Select an operation\n",
            "1. Access Element\n",
            "2. Modify Element\n",
            "3. Slice List\n",
            "4. Quit\n",
            "Enter your choice (1-4): 1\n",
            "Enter the index of the element you want to access: 3\n",
            "Element at index 3: Pear\n",
            "Current list ['Apple', 'Mango', 'Orange', 'Pear', 'Peach']\n",
            "Select an operation\n",
            "1. Access Element\n",
            "2. Modify Element\n",
            "3. Slice List\n",
            "4. Quit\n",
            "Enter your choice (1-4): 1\n",
            "Enter the index of the element you want to access: 2\n",
            "Element at index 2: Orange\n",
            "Current list ['Apple', 'Mango', 'Orange', 'Pear', 'Peach']\n",
            "Select an operation\n",
            "1. Access Element\n",
            "2. Modify Element\n",
            "3. Slice List\n",
            "4. Quit\n",
            "Enter your choice (1-4): 2\n",
            "Enter the index of the element you want to modify: 2\n",
            "Enter the new value for the element: 4\n",
            "Element at index 2 modified from Orange to 4\n",
            "Current list ['Apple', 'Mango', '4', 'Pear', 'Peach']\n",
            "Select an operation\n",
            "1. Access Element\n",
            "2. Modify Element\n",
            "3. Slice List\n",
            "4. Quit\n",
            "Enter your choice (1-4): 4\n",
            "Exiting the game. Goodbye!\n"
          ]
        }
      ]
    }
  ]
}