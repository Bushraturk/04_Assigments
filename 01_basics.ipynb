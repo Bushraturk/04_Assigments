{
  "nbformat": 4,
  "nbformat_minor": 0,
  "metadata": {
    "colab": {
      "provenance": [],
      "authorship_tag": "ABX9TyP3DndFOPdm7U+O4+BvlCBw",
      "include_colab_link": true
    },
    "kernelspec": {
      "name": "python3",
      "display_name": "Python 3"
    },
    "language_info": {
      "name": "python"
    }
  },
  "cells": [
    {
      "cell_type": "markdown",
      "metadata": {
        "id": "view-in-github",
        "colab_type": "text"
      },
      "source": [
        "<a href=\"https://colab.research.google.com/github/Bushraturk/04_Assigments/blob/main/01_basics.ipynb\" target=\"_parent\"><img src=\"https://colab.research.google.com/assets/colab-badge.svg\" alt=\"Open In Colab\"/></a>"
      ]
    },
    {
      "cell_type": "markdown",
      "source": [
        "# Assigment 01: basics"
      ],
      "metadata": {
        "id": "02ns9nspz2gT"
      }
    },
    {
      "cell_type": "code",
      "source": [
        "#00 Problem Statement\n",
        "# Write a simple joke bot. The bot starts by asking the user what they want. However, your program will only respond to one response: Joke.\n",
        "\n",
        "# If the user enters Joke then we will print out a single joke. Each time the joke is always the same:\n",
        "\n",
        "# Here is a joke for you! Panaversity GPT - Sophia is heading out to the grocery store. A programmer tells her: get a liter of milk, and if they have eggs, get 12. Sophia returns with 13 liters of milk. The programmer asks why and Sophia replies: 'because they had eggs'\n",
        "\n",
        "# If the user enters anything else we print out:\n",
        "\n",
        "# Sorry I only tell jokes\n",
        "\n",
        "# You should use the three constants:\n",
        "\n",
        "# PROMPT JOKE SORRY\n",
        "\n",
        "# which contain the strings for the prompt asked to the user, the joke to print out if the user enters Joke and the sorry message if the user enters anything else.\n",
        "\n",
        "# Your program will need to use an if statement which checks if the user input is Joke:\n",
        "\n",
        "# if user_input == \"Joke\":\n",
        "\n",
        "# Recall that == is a comparison which tests if two values are equal to one another.\n",
        "\n",
        "# Here is a full run of the program (user input is in blue):\n",
        "\n",
        "# What do you want? Joke Here is a joke for you! Panaversity GPT - Sophia is heading out to the grocery store. A programmer tells her: get a liter of milk, and if they have eggs, get 12. Sophia returns with 13 liters of milk. The programmer asks why and Sophia replies: 'because they had eggs'\n",
        "\n",
        "\n",
        "# Solution\n",
        "PROMPT: str = \"What do you want? \"\n",
        "JOKE: str = \"Here is a joke for you! Sophia is heading out to the grocery store. A programmer tells her: get a liter of milk, and if they have eggs, get 12. Sophia returns with 13 liters of milk. The programmer asks why and Sophia replies: 'because they had eggs'\"\n",
        "SORRY: str = \"Sorry I only tell jokes.\"\n",
        "\n",
        "def main():\n",
        "    user_input = input(PROMPT)\n",
        "\n",
        "    if user_input == \"Joke\":  # <-- exact, case-sensitive match\n",
        "        print(JOKE)\n",
        "    else:\n",
        "        print(SORRY)\n",
        "\n",
        "if __name__ == \"__main__\":\n",
        "    main()\n"
      ],
      "metadata": {
        "colab": {
          "base_uri": "https://localhost:8080/"
        },
        "id": "2aOrPf-71Bpd",
        "outputId": "eaaca0ba-22db-4c51-88bb-4c7c305d9eea"
      },
      "execution_count": 12,
      "outputs": [
        {
          "output_type": "stream",
          "name": "stdout",
          "text": [
            "What do you want? Joke\n",
            "Here is a joke for you! Sophia is heading out to the grocery store. A programmer tells her: get a liter of milk, and if they have eggs, get 12. Sophia returns with 13 liters of milk. The programmer asks why and Sophia replies: 'because they had eggs'\n"
          ]
        }
      ]
    },
    {
      "cell_type": "code",
      "source": [
        "#01 Problem Statement\n",
        "# Write a program that asks a user to enter a number. Your program will then double that number and print out the result. It will repeat that process until the value is 100 or greater.\n",
        "\n",
        "# For example if the user enters the number 2 you would then print:\n",
        "\n",
        "# 4 8 16 32 64 128\n",
        "\n",
        "# Note that:\n",
        "\n",
        "# 2 doubled is 4\n",
        "\n",
        "# 4 doubled is 8\n",
        "\n",
        "# 8 doubled is 16\n",
        "\n",
        "# and so on.\n",
        "\n",
        "# We stop at 128 because that value is greater than 100.\n",
        "\n",
        "# Maintain the current number in a variable named curr_value. When you double the number, you should be updating curr_value. Recall that you can double the value of curr_value using a line like:\n",
        "\n",
        "# curr_value = curr_value * 2\n",
        "\n",
        "# This program should have a while loop and the while loop condition should test if curr_value is less than 100. Thus, your program will have the line:\n",
        "\n",
        "# while curr_value < 100:\n",
        "\n",
        "curr_value: int = int(input(\"Enter a number\"))\n",
        "while curr_value <100:\n",
        "    curr_value = curr_value * 2\n",
        "    print(curr_value)\n"
      ],
      "metadata": {
        "colab": {
          "base_uri": "https://localhost:8080/"
        },
        "id": "yWO8JJKO1lDe",
        "outputId": "2185fdbb-a8b6-4f61-9313-ef334844c012"
      },
      "execution_count": 8,
      "outputs": [
        {
          "output_type": "stream",
          "name": "stdout",
          "text": [
            "Enter a number22\n",
            "22\n",
            "44\n",
            "88\n"
          ]
        }
      ]
    },
    {
      "cell_type": "code",
      "source": [
        "#02 Problem Statement\n",
        "# Write a program that prints out the calls for a spaceship that is about to launch. Countdown from 10 to 1 and then output Liftoff!\n",
        "\n",
        "# Here's a sample run of the program:\n",
        "\n",
        "# 10 9 8 7 6 5 4 3 2 1 Liftoff!\n",
        "\n",
        "# There are many ways to solve this problem. One approach is to use a for loop, and to use the for loop variable i. Recall that i will keep track of how many times the for loop has completed executing its body. As an example this code:\n",
        "\n",
        "# for i in range(10): print(i)\n",
        "\n",
        "# Will print out the values 0, 1, 2, 3, 4, 5, 6, 7, 8, 9. The values printed in liftoff are 10 minus the number of times the for loop has completed.\n",
        "\n",
        "for i in range(10, 0, -1):\n",
        "    print(i)\n",
        "print(\"Liftoff!\")"
      ],
      "metadata": {
        "colab": {
          "base_uri": "https://localhost:8080/"
        },
        "id": "a8kmxcCu1wU9",
        "outputId": "cc04dc59-feb8-4ee8-f5a4-a625ebcd54c2"
      },
      "execution_count": 10,
      "outputs": [
        {
          "output_type": "stream",
          "name": "stdout",
          "text": [
            "10\n",
            "9\n",
            "8\n",
            "7\n",
            "6\n",
            "5\n",
            "4\n",
            "3\n",
            "2\n",
            "1\n",
            "Liftoff!\n"
          ]
        }
      ]
    },
    {
      "cell_type": "code",
      "source": [
        "#03 Problem Statement\n",
        "# Guess My Number\n",
        "\n",
        "# I am thinking of a number between 0 and 99... Enter a guess: 50 Your guess is too high\n",
        "\n",
        "# Enter a new number: 25 Your guess is too low\n",
        "\n",
        "# Enter a new number: 40 Your guess is too low\n",
        "\n",
        "# Enter a new number: 45 Your guess is too low\n",
        "\n",
        "# Enter a new number: 48 Congrats! The number was: 48\n",
        "\n",
        "# Solution\n",
        "import random\n",
        "\n",
        "def main():\n",
        "    # Generate the secret number at random!\n",
        "    secret_number: int = random.randint(1, 99)\n",
        "\n",
        "    print(\"I am thinking of a number between 1 and 99...\")\n",
        "\n",
        "    # Get user's guess\n",
        "    guess = int(input(\"Enter a guess: \"))\n",
        "    # True if guess is not equal to secret number\n",
        "    while guess != secret_number:\n",
        "        if guess < secret_number:  # If-statement is True if guess is less than secret number\n",
        "            print(\"Your guess is too low\")\n",
        "        else:\n",
        "            print(\"Your guess is too high\")\n",
        "\n",
        "        print() # Print an empty line to tidy up the console for new guesses\n",
        "        guess: int = int(input(\"Enter a new guess: \"))  # Get a new guess from the user\n",
        "\n",
        "    print(\"Congrats! The number was: \" + str(secret_number))\n",
        "\n",
        "if __name__ == '__main__':\n",
        "    main()"
      ],
      "metadata": {
        "colab": {
          "base_uri": "https://localhost:8080/"
        },
        "id": "TZpQvxGT2qQ5",
        "outputId": "626be746-a048-40e1-bbeb-42bac6411384"
      },
      "execution_count": 7,
      "outputs": [
        {
          "output_type": "stream",
          "name": "stdout",
          "text": [
            "I am thinking of a number between 1 and 99...\n",
            "Enter a guess: 45\n",
            "Your guess is too low\n",
            "\n",
            "Enter a new guess: 55\n",
            "Your guess is too low\n",
            "\n",
            "Enter a new guess: 68\n",
            "Your guess is too high\n",
            "\n",
            "Enter a new guess: 60\n",
            "Your guess is too low\n",
            "\n",
            "Enter a new guess: 65\n",
            "Congrats! The number was: 65\n"
          ]
        }
      ]
    },
    {
      "cell_type": "code",
      "source": [
        "#04 Problem Statement\n",
        "# Print 10 random numbers in the range 1 to 100.\n",
        "\n",
        "# Here is an example run:\n",
        "\n",
        "# 45 79 61 47 52 10 16 83 19 12\n",
        "\n",
        "# Each time you run your program you should get different numbers\n",
        "\n",
        "# 81 76 70 1 27 63 96 100 32 92\n",
        "\n",
        "# Recall that the python random library has a function randint which returns an integer in the range set by the parameters (inclusive). For example this call would produce a random integer between 1 and 6, which could include 1 and could include 6:\n",
        "\n",
        "# value = random.randint(1, 6)\n",
        "\n",
        "import random\n",
        "\n",
        "N_NUMBERS: int = 10\n",
        "MIN_VALUE: int = 1\n",
        "MAX_VALUE: int = 100\n",
        "\n",
        "def main():\n",
        "    \"\"\"\n",
        "    You should write your code here. Make sure to delete\n",
        "    the 'pass' line before starting to write your own code.\n",
        "    \"\"\"\n",
        "    for i in range(N_NUMBERS):\n",
        "      print(random.randint(MIN_VALUE, MAX_VALUE), end=\" \")\n",
        "\n",
        "    pass\n",
        "\n",
        "if __name__ == '__main__':\n",
        "    main()"
      ],
      "metadata": {
        "colab": {
          "base_uri": "https://localhost:8080/"
        },
        "id": "qL9SNllN28kg",
        "outputId": "cf7e899b-2885-448d-846d-ae6b6dea5924"
      },
      "execution_count": 13,
      "outputs": [
        {
          "output_type": "stream",
          "name": "stdout",
          "text": [
            "91 74 84 67 1 6 46 41 48 96 "
          ]
        }
      ]
    }
  ]
}