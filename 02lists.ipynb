{
  "nbformat": 4,
  "nbformat_minor": 0,
  "metadata": {
    "colab": {
      "provenance": [],
      "authorship_tag": "ABX9TyP2wJJafJZ6nc8buaMBc6cL",
      "include_colab_link": true
    },
    "kernelspec": {
      "name": "python3",
      "display_name": "Python 3"
    },
    "language_info": {
      "name": "python"
    }
  },
  "cells": [
    {
      "cell_type": "markdown",
      "metadata": {
        "id": "view-in-github",
        "colab_type": "text"
      },
      "source": [
        "<a href=\"https://colab.research.google.com/github/Bushraturk/04_Assigments/blob/main/02lists.ipynb\" target=\"_parent\"><img src=\"https://colab.research.google.com/assets/colab-badge.svg\" alt=\"Open In Colab\"/></a>"
      ]
    },
    {
      "cell_type": "markdown",
      "source": [
        "# Lists"
      ],
      "metadata": {
        "id": "wjOIpbJkGTOc"
      }
    },
    {
      "cell_type": "code",
      "execution_count": null,
      "metadata": {
        "colab": {
          "base_uri": "https://localhost:8080/"
        },
        "id": "szdnM58zF8GT",
        "outputId": "0a3d78e1-61d9-4b68-aae7-ee93ff9675bf"
      },
      "outputs": [
        {
          "output_type": "stream",
          "name": "stdout",
          "text": [
            "15\n"
          ]
        }
      ],
      "source": [
        "# Problem Statement\n",
        "# Write a function that takes a list of numbers and returns the sum of those numbers.\n",
        "\n",
        "# Solution\n",
        "\n",
        "def add_many_numbers(numbers)-> int:\n",
        "    \"\"\"\n",
        "    Takes in a list of numbers and returns the sum of those numbers.\n",
        "    \"\"\"\n",
        "\n",
        "    total_so_far: int = 0\n",
        "    for number in numbers:\n",
        "        total_so_far += number\n",
        "\n",
        "    return total_so_far\n",
        "\n",
        "# There is no need to edit code beyond this point\n",
        "\n",
        "def main():\n",
        "    numbers: list[int] = [1, 2, 3, 4, 5]  # Make a list of numbers\n",
        "    sum_of_numbers: int = add_many_numbers(numbers)  # Find the sum of the list\n",
        "    print(sum_of_numbers)  # Print out the sum above\n",
        "\n",
        "\n",
        "if __name__ == '__main__':\n",
        "    main()"
      ]
    },
    {
      "cell_type": "code",
      "source": [
        "# Problem Statement\n",
        "# Write a program that doubles each element in a list of numbers. For example, if you start with this list:\n",
        "\n",
        "# numbers = [1, 2, 3, 4]\n",
        "\n",
        "# You should end with this list:\n",
        "\n",
        "# numbers = [2, 4, 6, 8]\n",
        "\n",
        "# Solution\n",
        "def main():\n",
        "    numbers: list[int] = [1, 2, 3, 4]  # Creates a list of numbers\n",
        "\n",
        "    for i in range(len(numbers)):  # Loop through the indices of the list\n",
        "        elem_at_index = numbers[i]  # Get the element at index i in the numbers list\n",
        "        numbers[i] = elem_at_index * 2  # Set the element at index i to be equal to the previous element times 2\n",
        "\n",
        "    print(numbers)  # This should print the doubled list\n",
        "\n",
        "\n",
        "# There is no need to edit code beyond this point\n",
        "\n",
        "if __name__ == '__main__':\n",
        "    main()"
      ],
      "metadata": {
        "colab": {
          "base_uri": "https://localhost:8080/"
        },
        "id": "Mu9sFotNGfP-",
        "outputId": "bd2c70ee-1b29-4cd6-e03f-ee75e713b88f"
      },
      "execution_count": null,
      "outputs": [
        {
          "output_type": "stream",
          "name": "stdout",
          "text": [
            "[2, 4, 6, 8]\n"
          ]
        }
      ]
    },
    {
      "cell_type": "code",
      "source": [
        "!pip install graphics.py # Install the graphics.py library"
      ],
      "metadata": {
        "colab": {
          "base_uri": "https://localhost:8080/"
        },
        "id": "RaRIjvMDHE2F",
        "outputId": "9d0f4fd7-f021-4b0b-8051-edd6f6cacf7b"
      },
      "execution_count": null,
      "outputs": [
        {
          "output_type": "stream",
          "name": "stdout",
          "text": [
            "Collecting graphics.py\n",
            "  Downloading graphics.py-5.0.1.post1.tar.gz (9.6 kB)\n",
            "  Preparing metadata (setup.py) ... \u001b[?25l\u001b[?25hdone\n",
            "Building wheels for collected packages: graphics.py\n",
            "  Building wheel for graphics.py (setup.py) ... \u001b[?25l\u001b[?25hdone\n",
            "  Created wheel for graphics.py: filename=graphics.py-5.0.1.post1-py3-none-any.whl size=10052 sha256=10043f79be2415acbf855cb443930e338f56e1b3ecbc00185ca33e338235fb4e\n",
            "  Stored in directory: /root/.cache/pip/wheels/93/74/e4/0d68c6fd7d9c1247a8d792619183bcee10a404ab046eff361a\n",
            "Successfully built graphics.py\n",
            "Installing collected packages: graphics.py\n",
            "Successfully installed graphics.py-5.0.1.post1\n"
          ]
        }
      ]
    },
    {
      "cell_type": "code",
      "source": [
        "# Problem Statement\n",
        "# Implement an 'eraser' on a canvas.\n",
        "\n",
        "# The canvas consists of a grid of blue 'cells' which are drawn as rectangles on the screen. We then create an eraser rectangle which, when dragged around the canvas, sets all of the rectangles it is in contact with to white.\n",
        "!pip install matplotlib # install necessary library\n",
        "\n",
        "import matplotlib.pyplot as plt\n",
        "import matplotlib.patches as patches\n",
        "import time\n",
        "\n",
        "CANVAS_WIDTH = 400\n",
        "CANVAS_HEIGHT = 400\n",
        "\n",
        "CELL_SIZE = 40\n",
        "ERASER_SIZE = 20\n",
        "\n",
        "# Function to erase objects by setting their color to white\n",
        "def erase_objects(ax, eraser, objects):\n",
        "    \"\"\"Erase objects in contact with the eraser\"\"\"\n",
        "    # Get eraser position\n",
        "    eraser_x, eraser_y = eraser.get_xy()\n",
        "\n",
        "    # Iterate through objects and check for overlap with the eraser\n",
        "    for obj in objects:\n",
        "        obj_x, obj_y = obj.get_xy()\n",
        "        if (eraser_x < obj_x + CELL_SIZE and\n",
        "            eraser_x + ERASER_SIZE > obj_x and\n",
        "            eraser_y < obj_y + CELL_SIZE and\n",
        "            eraser_y + ERASER_SIZE > obj_y):\n",
        "            # If overlap is detected, set the object's color to white\n",
        "            obj.set_facecolor('white')\n",
        "\n",
        "# Main function\n",
        "def main():\n",
        "    # Create a figure and axes\n",
        "    fig, ax = plt.subplots(figsize=(CANVAS_WIDTH/100, CANVAS_HEIGHT/100))\n",
        "    ax.set_xlim(0, CANVAS_WIDTH)\n",
        "    ax.set_ylim(0, CANVAS_HEIGHT)\n",
        "    ax.invert_yaxis()  # Invert y-axis to match graphics.py coordinate system\n",
        "\n",
        "    # Create grid of squares (cells)\n",
        "    objects = []\n",
        "    for row in range(CANVAS_HEIGHT // CELL_SIZE):\n",
        "        for col in range(CANVAS_WIDTH // CELL_SIZE):\n",
        "            # Create a rectangle patch for each cell\n",
        "            rect = patches.Rectangle((col * CELL_SIZE, row * CELL_SIZE), CELL_SIZE, CELL_SIZE,\n",
        "                                     linewidth=1, edgecolor='black', facecolor='yellow')\n",
        "            # Add the rectangle to the axes and the objects list\n",
        "            ax.add_patch(rect)\n",
        "            objects.append(rect)\n",
        "\n",
        "    # Display the initial grid\n",
        "    plt.show(block=False)\n",
        "\n",
        "    # Wait for a click to create the eraser\n",
        "    while True:\n",
        "        if plt.waitforbuttonpress(timeout=0.1):\n",
        "            break\n",
        "\n",
        "    # Get the coordinates of the click for the initial eraser position\n",
        "    click_x, click_y = fig.ginput(1)[0]\n",
        "\n",
        "    # Create the eraser as a pink rectangle\n",
        "    eraser = patches.Rectangle((click_x, click_y), ERASER_SIZE, ERASER_SIZE,\n",
        "                                linewidth=1, edgecolor='black', facecolor='pink')\n",
        "    ax.add_patch(eraser)\n",
        "    fig.canvas.draw_idle()  # Update the figure to show the eraser\n",
        "\n",
        "    # Continuously move the eraser and erase objects\n",
        "    while True:\n",
        "        try:\n",
        "            # Get the current mouse position\n",
        "            mouse_x, mouse_y = fig.ginput(timeout=0.01, show_clicks=False)[0]\n",
        "            # Move the eraser to the mouse position\n",
        "            eraser.set_xy((mouse_x, mouse_y))\n",
        "            # Erase objects in contact with the eraser\n",
        "            erase_objects(ax, eraser, objects)\n",
        "            # Update the figure to reflect changes\n",
        "            fig.canvas.draw_idle()\n",
        "        except IndexError:\n",
        "            pass\n",
        "\n",
        "        time.sleep(0.01)\n",
        "\n",
        "# Call the main function if the script is run directly\n",
        "if __name__ == '__main__':\n",
        "    main()"
      ],
      "metadata": {
        "colab": {
          "base_uri": "https://localhost:8080/",
          "height": 565
        },
        "id": "cGFnynaDRTIg",
        "outputId": "efb1b6df-4de7-4a46-ee35-bc9db4827eae"
      },
      "execution_count": null,
      "outputs": [
        {
          "output_type": "stream",
          "name": "stdout",
          "text": [
            "Requirement already satisfied: matplotlib in /usr/local/lib/python3.11/dist-packages (3.10.0)\n",
            "Requirement already satisfied: contourpy>=1.0.1 in /usr/local/lib/python3.11/dist-packages (from matplotlib) (1.3.1)\n",
            "Requirement already satisfied: cycler>=0.10 in /usr/local/lib/python3.11/dist-packages (from matplotlib) (0.12.1)\n",
            "Requirement already satisfied: fonttools>=4.22.0 in /usr/local/lib/python3.11/dist-packages (from matplotlib) (4.57.0)\n",
            "Requirement already satisfied: kiwisolver>=1.3.1 in /usr/local/lib/python3.11/dist-packages (from matplotlib) (1.4.8)\n",
            "Requirement already satisfied: numpy>=1.23 in /usr/local/lib/python3.11/dist-packages (from matplotlib) (2.0.2)\n",
            "Requirement already satisfied: packaging>=20.0 in /usr/local/lib/python3.11/dist-packages (from matplotlib) (24.2)\n",
            "Requirement already satisfied: pillow>=8 in /usr/local/lib/python3.11/dist-packages (from matplotlib) (11.1.0)\n",
            "Requirement already satisfied: pyparsing>=2.3.1 in /usr/local/lib/python3.11/dist-packages (from matplotlib) (3.2.3)\n",
            "Requirement already satisfied: python-dateutil>=2.7 in /usr/local/lib/python3.11/dist-packages (from matplotlib) (2.8.2)\n",
            "Requirement already satisfied: six>=1.5 in /usr/local/lib/python3.11/dist-packages (from python-dateutil>=2.7->matplotlib) (1.17.0)\n"
          ]
        },
        {
          "output_type": "display_data",
          "data": {
            "text/plain": [
              "<Figure size 400x400 with 1 Axes>"
            ],
            "image/png": "[encoded data removed]"
          },
          "metadata": {}
        }
      ]
    },
    {
      "cell_type": "code",
      "source": [
        "# Problem Statement\n",
        "# In the information flow lesson, we discussed using a variable storing a number as an example of scope. We saw that changes we made to the number inside a function did not stay unless we returned it. This is true for what we call immutable data types which include things like numbers and strings.\n",
        "\n",
        "# However, there are also mutable data types where changes stay even if we don't return anything. Some examples of mutable data types are lists and dictionaries. This means that you should be mindful when modifying lists and dictionaries within helper functions since their changes stay whether or not you return them.\n",
        "\n",
        "# To see this in action, fill out the add_three_copies(...) function which takes a list and some data and then adds three copies of the data to the list. Don't return anything and see what happens! Compare this process to the x = change(x) example and note the differences.\n",
        "\n",
        "# Here is an example run of this program (user input in bold italics):\n",
        "\n",
        "# Enter a message to copy: Hello world!\n",
        "\n",
        "# List before: []\n",
        "\n",
        "# List after: ['Hello world!', 'Hello world!', 'Hello world!']\n",
        "\n",
        "# (Note. The concept of immutable/mutable data types is called mutability. Be careful because different programming languages have different rules regarding mutability!)\n",
        "\n",
        "\n",
        "# Solution\n",
        "def add_three_copies(my_list, data):\n",
        "    for i in range(3):\n",
        "        my_list.append(data)\n",
        "\n",
        "########## No need to edit code past this point\n",
        "\n",
        "def main():\n",
        "    message = input(\"Enter a message to copy: \")\n",
        "    my_list = []\n",
        "    print(\"List before:\", my_list)\n",
        "    add_three_copies(my_list, message)\n",
        "    print(\"List after:\", my_list)\n",
        "\n",
        "if __name__ == \"__main__\":\n",
        "    main()"
      ],
      "metadata": {
        "colab": {
          "base_uri": "https://localhost:8080/"
        },
        "id": "OP6d28-sSE9Q",
        "outputId": "33a8245f-ae06-44c4-9843-1f46b9ce7c14"
      },
      "execution_count": null,
      "outputs": [
        {
          "output_type": "stream",
          "name": "stdout",
          "text": [
            "Enter a message to copy: enter your name\n",
            "List before: []\n",
            "List after: ['enter your name', 'enter your name', 'enter your name']\n"
          ]
        }
      ]
    },
    {
      "cell_type": "code",
      "source": [
        "# Problem Statement\n",
        "# Fill out the function get_first_element(lst) which takes in a list lst as a parameter and prints the first element in the list. The list is guaranteed to be non-empty. We've written some code for you which prompts the user to input the list one element at a time.\n",
        "\n",
        "# Solution\n",
        "def get_first_element(lst):\n",
        "    \"\"\"\n",
        "    Prints the first element of a provided list.\n",
        "    \"\"\"\n",
        "\n",
        "    print(lst[0])\n",
        "\n",
        "# There is no need to edit code beyond this point\n",
        "\n",
        "def get_lst():\n",
        "    \"\"\"\n",
        "    Prompts the user to enter one element of the list at a time and returns the resulting list.\n",
        "    \"\"\"\n",
        "    lst = []\n",
        "    elem: str = input(\"Please enter an element of the list or press enter to stop. \")\n",
        "    while elem != \"\":\n",
        "        lst.append(elem)\n",
        "        elem = input(\"Please enter an element of the list or press enter to stop. \")\n",
        "    return lst\n",
        "\n",
        "def main():\n",
        "    lst = get_lst()\n",
        "    get_first_element(lst)\n",
        "\n",
        "\n",
        "if __name__ == '__main__':\n",
        "    main()\n"
      ],
      "metadata": {
        "colab": {
          "base_uri": "https://localhost:8080/"
        },
        "id": "BEvMV00DixnT",
        "outputId": "9f0052d0-b964-4d95-fe9a-35fe143bce18"
      },
      "execution_count": 4,
      "outputs": [
        {
          "output_type": "stream",
          "name": "stdout",
          "text": [
            "Please enter an element of the list or press enter to stop. enter\n",
            "Please enter an element of the list or press enter to stop. sleep\n",
            "Please enter an element of the list or press enter to stop. \n",
            "enter\n"
          ]
        }
      ]
    },
    {
      "cell_type": "code",
      "source": [
        "# Problem Statement\n",
        "# Fill out the function get_last_element(lst) which takes in a list lst as a parameter and prints the last element in the list. The list is guaranteed to be non-empty, but there are no guarantees on its length.\n",
        "\n",
        "def get_lst():\n",
        "    \"\"\"\n",
        "    Prompts the user to enter one element of the list at a time and returns the resulting list.\n",
        "    \"\"\"\n",
        "    lst = []\n",
        "    elem: str = input(\"Please enter an element of the list or press enter to stop. \")\n",
        "    while elem != \"\":\n",
        "        lst.append(elem)\n",
        "        elem = input(\"Please enter an element of the list or press enter to stop. \")\n",
        "    return lst\n",
        "\n",
        "# Call the get_lst function to get the list from the user\n",
        "lst = get_lst()\n",
        "\n",
        "# Now you can access lst because it's defined in the current scope\n",
        "# Takes the length of the list and minuses 1 since they are zero-indexed (we start counting at 0)\n",
        "print(lst[len(lst) - 1])\n",
        "\n",
        "# The line below works too!!\n",
        "# print(lst[-1])"
      ],
      "metadata": {
        "colab": {
          "base_uri": "https://localhost:8080/"
        },
        "id": "HTRgM6eC2KzO",
        "outputId": "93df67b8-2d0e-46d2-e5f9-47f0de10287e"
      },
      "execution_count": 14,
      "outputs": [
        {
          "output_type": "stream",
          "name": "stdout",
          "text": [
            "Please enter an element of the list or press enter to stop. 23\n",
            "Please enter an element of the list or press enter to stop. 13\n",
            "Please enter an element of the list or press enter to stop. \n",
            "13\n"
          ]
        }
      ]
    },
    {
      "cell_type": "code",
      "source": [
        "# Problem Statement\n",
        "# Write a program which continuously asks the user to enter values which are added one by one into a list. When the user presses enter without typing anything, print the list.\n",
        "\n",
        "# Here's a sample run (user input is in blue):\n",
        "\n",
        "# Enter a value: 1 Enter a value: 2 Enter a value: 3 Enter a value: Here's the list: ['1', '2', '3']\n",
        "\n",
        "# Solution\n",
        "def main():\n",
        "    lst = []  # Make an empty list to store things in\n",
        "\n",
        "    val = input(\"Enter a value: \")  # Get an initial value\n",
        "    while val:  # While the user input isn't an empty value\n",
        "        lst.append(val) # Add val to list\n",
        "        val = input(\"Enter a value: \")  # Get the next value to add\n",
        "\n",
        "    print(\"Here's the list:\", lst)\n",
        "\n",
        "\n",
        "# There is no need to edit code beyond this point\n",
        "\n",
        "if __name__ == '__main__':\n",
        "    main()"
      ],
      "metadata": {
        "colab": {
          "base_uri": "https://localhost:8080/"
        },
        "id": "KzzPpwfoldJy",
        "outputId": "87ff79c9-499a-4628-fae5-3970b8babbaa"
      },
      "execution_count": 6,
      "outputs": [
        {
          "output_type": "stream",
          "name": "stdout",
          "text": [
            "Enter a value: 23\n",
            "Enter a value: 56\n",
            "Enter a value: \n",
            "Here's the list: ['23', '56']\n"
          ]
        }
      ]
    },
    {
      "cell_type": "code",
      "source": [
        "# Problem Statement\n",
        "# Fill out the function shorten(lst) which removes elements from the end of lst, which is a list, and prints each item it removes until lst is MAX_LENGTH items long. If lst is already shorter than MAX_LENGTH you should leave it unchanged. We've written a main() function for you which gets a list and passes it into your function once you run the program. For the autograder to pass you will need MAX_LENGTH to be 3, but feel free to change it around to test your program.\n",
        "\n",
        "\n",
        "# Solution\n",
        "MAX_LENGTH : int = 3\n",
        "\n",
        "def shorten(lst):\n",
        "    while len(lst) > MAX_LENGTH:\n",
        "        last_elem = lst.pop()\n",
        "        print(last_elem)\n",
        "\n",
        "# There is no need to edit code beyond this point\n",
        "\n",
        "def get_lst():\n",
        "    \"\"\"\n",
        "    Prompts the user to enter one element of the list at a time and returns the resulting list.\n",
        "    \"\"\"\n",
        "    lst = []\n",
        "    elem = input(\"Please enter an element of the list or press enter to stop. \")\n",
        "    while elem != \"\":\n",
        "        lst.append(elem)\n",
        "        elem = input(\"Please enter an element of the list or press enter to stop. \")\n",
        "    return lst\n",
        "\n",
        "def main():\n",
        "    lst = get_lst()\n",
        "    shorten(lst)\n",
        "\n",
        "\n",
        "if __name__ == '__main__':\n",
        "    main()"
      ],
      "metadata": {
        "colab": {
          "base_uri": "https://localhost:8080/"
        },
        "id": "FkkHQWhYmFkr",
        "outputId": "689674ee-9281-40e1-bed4-72e2e0208597"
      },
      "execution_count": 8,
      "outputs": [
        {
          "name": "stdout",
          "output_type": "stream",
          "text": [
            "Please enter an element of the list or press enter to stop. python\n",
            "Please enter an element of the list or press enter to stop. agentic ai\n",
            "Please enter an element of the list or press enter to stop. \n"
          ]
        }
      ]
    }
  ]
}