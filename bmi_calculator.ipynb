{
  "nbformat": 4,
  "nbformat_minor": 0,
  "metadata": {
    "colab": {
      "provenance": [],
      "authorship_tag": "ABX9TyOk5mHWNS0qz3LtRkx6jvUh",
      "include_colab_link": true
    },
    "kernelspec": {
      "name": "python3",
      "display_name": "Python 3"
    },
    "language_info": {
      "name": "python"
    }
  },
  "cells": [
    {
      "cell_type": "markdown",
      "metadata": {
        "id": "view-in-github",
        "colab_type": "text"
      },
      "source": [
        "<a href=\"https://colab.research.google.com/github/Bushraturk/04_Assigments/blob/main/bmi_calculator.ipynb\" target=\"_parent\"><img src=\"https://colab.research.google.com/assets/colab-badge.svg\" alt=\"Open In Colab\"/></a>"
      ]
    },
    {
      "cell_type": "code",
      "execution_count": 50,
      "metadata": {
        "colab": {
          "base_uri": "https://localhost:8080/"
        },
        "id": "6TR21RG35-pR",
        "outputId": "f179c74d-1aaa-4c07-acd5-c0e8ae486e67"
      },
      "outputs": [
        {
          "output_type": "stream",
          "name": "stdout",
          "text": [
            "\u001b[2K     \u001b[90m━━━━━━━━━━━━━━━━━━━━━━━━━━━━━━━━━━━━━━━━\u001b[0m \u001b[32m44.3/44.3 kB\u001b[0m \u001b[31m1.7 MB/s\u001b[0m eta \u001b[36m0:00:00\u001b[0m\n",
            "\u001b[2K   \u001b[90m━━━━━━━━━━━━━━━━━━━━━━━━━━━━━━━━━━━━━━━━\u001b[0m \u001b[32m9.8/9.8 MB\u001b[0m \u001b[31m45.9 MB/s\u001b[0m eta \u001b[36m0:00:00\u001b[0m\n",
            "\u001b[2K   \u001b[90m━━━━━━━━━━━━━━━━━━━━━━━━━━━━━━━━━━━━━━━━\u001b[0m \u001b[32m6.9/6.9 MB\u001b[0m \u001b[31m57.8 MB/s\u001b[0m eta \u001b[36m0:00:00\u001b[0m\n",
            "\u001b[2K   \u001b[90m━━━━━━━━━━━━━━━━━━━━━━━━━━━━━━━━━━━━━━━━\u001b[0m \u001b[32m79.1/79.1 kB\u001b[0m \u001b[31m5.3 MB/s\u001b[0m eta \u001b[36m0:00:00\u001b[0m\n",
            "\u001b[?25h"
          ]
        }
      ],
      "source": [
        "#install streamlit\n",
        "!pip install streamlit -q"
      ]
    },
    {
      "cell_type": "code",
      "source": [
        "#install py-ngrok\n",
        "!pip install pyngrok -q"
      ],
      "metadata": {
        "id": "W1-3LVaQ6lTf"
      },
      "execution_count": 51,
      "outputs": []
    },
    {
      "cell_type": "code",
      "source": [
        "from google.colab import userdata\n",
        "\n",
        "from pyngrok import ngrok\n",
        "\n",
        "#ngrok.set_auth_token(userdata.get('authtoken'))\n",
        "\n",
        "pyngrok = userdata.get('authtoken')\n"
      ],
      "metadata": {
        "id": "3MQySLqf7Fb0"
      },
      "execution_count": 52,
      "outputs": []
    },
    {
      "cell_type": "code",
      "source": [
        "!ngrok authtoken {pyngrok}"
      ],
      "metadata": {
        "colab": {
          "base_uri": "https://localhost:8080/"
        },
        "id": "oUORjksltzH6",
        "outputId": "69ab9a77-dedf-4955-b709-a2cb0c7880c3"
      },
      "execution_count": 53,
      "outputs": [
        {
          "output_type": "stream",
          "name": "stdout",
          "text": [
            "Authtoken saved to configuration file: /root/.config/ngrok/ngrok.yml\n"
          ]
        }
      ]
    },
    {
      "cell_type": "code",
      "source": [
        "\n",
        "public_url = ngrok.connect(addr=['8501']) #The port parameter in ngrok.connect should be inside of a list of ports.\n",
        "public_url"
      ],
      "metadata": {
        "colab": {
          "base_uri": "https://localhost:8080/"
        },
        "id": "kcmxCxT-uu0i",
        "outputId": "a475d2de-f5bb-4544-e701-9922bbf96f2a"
      },
      "execution_count": 54,
      "outputs": [
        {
          "output_type": "execute_result",
          "data": {
            "text/plain": [
              "<NgrokTunnel: \"https://76a4-34-56-110-155.ngrok-free.app\" -> \"http://['8501']:80\">"
            ]
          },
          "metadata": {},
          "execution_count": 54
        }
      ]
    },
    {
      "cell_type": "code",
      "source": [
        "!streamlit run /app.py"
      ],
      "metadata": {
        "colab": {
          "base_uri": "https://localhost:8080/"
        },
        "id": "Y3Z_a58C0GLd",
        "outputId": "d4d626e8-7dfa-4b4c-e42e-20e594ab3c0c"
      },
      "execution_count": null,
      "outputs": [
        {
          "output_type": "stream",
          "name": "stdout",
          "text": [
            "\n",
            "Collecting usage statistics. To deactivate, set browser.gatherUsageStats to false.\n",
            "\u001b[0m\n",
            "\u001b[0m\n",
            "\u001b[34m\u001b[1m  You can now view your Streamlit app in your browser.\u001b[0m\n",
            "\u001b[0m\n",
            "\u001b[34m  Local URL: \u001b[0m\u001b[1mhttp://localhost:8501\u001b[0m\n",
            "\u001b[34m  Network URL: \u001b[0m\u001b[1mhttp://172.28.0.12:8501\u001b[0m\n",
            "\u001b[34m  External URL: \u001b[0m\u001b[1mhttp://34.56.110.155:8501\u001b[0m\n",
            "\u001b[0m\n"
          ]
        },
        {
          "output_type": "stream",
          "name": "stderr",
          "text": [
            "WARNING:pyngrok.process.ngrok:t=2025-04-10T17:59:31+0000 lvl=warn msg=\"failed to open private leg\" id=a091b282d655 privaddr=['8501']:80 err=\"dial tcp: lookup '8501': no such host\"\n",
            "WARNING:pyngrok.process.ngrok:t=2025-04-10T17:59:33+0000 lvl=warn msg=\"failed to open private leg\" id=24e89557b7e6 privaddr=['8501']:80 err=\"dial tcp: lookup '8501': no such host\"\n",
            "WARNING:pyngrok.process.ngrok:t=2025-04-10T17:59:39+0000 lvl=warn msg=\"failed to open private leg\" id=289ac0344d98 privaddr=['8501']:80 err=\"dial tcp: lookup '8501': no such host\"\n",
            "WARNING:pyngrok.process.ngrok:t=2025-04-10T17:59:40+0000 lvl=warn msg=\"failed to open private leg\" id=188852b0ded1 privaddr=['8501']:80 err=\"dial tcp: lookup '8501': no such host\"\n",
            "WARNING:pyngrok.process.ngrok:t=2025-04-10T17:59:41+0000 lvl=warn msg=\"failed to open private leg\" id=cb22b83158f3 privaddr=['8501']:80 err=\"dial tcp: lookup '8501': no such host\"\n",
            "WARNING:pyngrok.process.ngrok:t=2025-04-10T18:00:08+0000 lvl=warn msg=\"failed to open private leg\" id=a7bf56fe795a privaddr=['8501']:80 err=\"dial tcp: lookup '8501': no such host\"\n",
            "WARNING:pyngrok.process.ngrok:t=2025-04-10T18:00:10+0000 lvl=warn msg=\"failed to open private leg\" id=17e5be9347fe privaddr=['8501']:80 err=\"dial tcp: lookup '8501': no such host\"\n",
            "WARNING:pyngrok.process.ngrok:t=2025-04-10T18:00:12+0000 lvl=warn msg=\"failed to open private leg\" id=21c3a8261e7c privaddr=['8501']:80 err=\"dial tcp: lookup '8501': no such host\"\n",
            "WARNING:pyngrok.process.ngrok:t=2025-04-10T18:00:13+0000 lvl=warn msg=\"failed to open private leg\" id=1d9f61eb5de2 privaddr=['8501']:80 err=\"dial tcp: lookup '8501': no such host\"\n",
            "WARNING:pyngrok.process.ngrok:t=2025-04-10T18:00:15+0000 lvl=warn msg=\"failed to open private leg\" id=1a752976fc9c privaddr=['8501']:80 err=\"dial tcp: lookup '8501': no such host\"\n",
            "WARNING:pyngrok.process.ngrok:t=2025-04-10T18:00:16+0000 lvl=warn msg=\"failed to open private leg\" id=7b6a5225b958 privaddr=['8501']:80 err=\"dial tcp: lookup '8501': no such host\"\n",
            "WARNING:pyngrok.process.ngrok:t=2025-04-10T18:00:17+0000 lvl=warn msg=\"failed to open private leg\" id=111cf6e2ac05 privaddr=['8501']:80 err=\"dial tcp: lookup '8501': no such host\"\n",
            "WARNING:pyngrok.process.ngrok:t=2025-04-10T18:00:18+0000 lvl=warn msg=\"failed to open private leg\" id=636e6ba94961 privaddr=['8501']:80 err=\"dial tcp: lookup '8501': no such host\"\n",
            "WARNING:pyngrok.process.ngrok:t=2025-04-10T18:00:26+0000 lvl=warn msg=\"failed to open private leg\" id=e1964b53037c privaddr=['8501']:80 err=\"dial tcp: lookup '8501': no such host\"\n",
            "WARNING:pyngrok.process.ngrok:t=2025-04-10T18:00:27+0000 lvl=warn msg=\"failed to open private leg\" id=d015fc13ecad privaddr=['8501']:80 err=\"dial tcp: lookup '8501': no such host\"\n",
            "WARNING:pyngrok.process.ngrok:t=2025-04-10T18:00:33+0000 lvl=warn msg=\"failed to open private leg\" id=37267505f667 privaddr=['8501']:80 err=\"dial tcp: lookup '8501': no such host\"\n",
            "WARNING:pyngrok.process.ngrok:t=2025-04-10T18:00:34+0000 lvl=warn msg=\"failed to open private leg\" id=0767dfebf1f8 privaddr=['8501']:80 err=\"dial tcp: lookup '8501': no such host\"\n",
            "WARNING:pyngrok.process.ngrok:t=2025-04-10T18:00:39+0000 lvl=warn msg=\"failed to open private leg\" id=895985ed505a privaddr=['8501']:80 err=\"dial tcp: lookup '8501': no such host\"\n",
            "WARNING:pyngrok.process.ngrok:t=2025-04-10T18:00:39+0000 lvl=warn msg=\"failed to open private leg\" id=6c8298bd0c26 privaddr=['8501']:80 err=\"dial tcp: lookup '8501': no such host\"\n",
            "WARNING:pyngrok.process.ngrok:t=2025-04-10T18:00:41+0000 lvl=warn msg=\"failed to open private leg\" id=c52d425cc5f4 privaddr=['8501']:80 err=\"dial tcp: lookup '8501': no such host\"\n",
            "WARNING:pyngrok.process.ngrok:t=2025-04-10T18:00:42+0000 lvl=warn msg=\"failed to open private leg\" id=32f32c0c78da privaddr=['8501']:80 err=\"dial tcp: lookup '8501': no such host\"\n",
            "WARNING:pyngrok.process.ngrok:t=2025-04-10T18:00:48+0000 lvl=warn msg=\"failed to open private leg\" id=c40f480b174e privaddr=['8501']:80 err=\"dial tcp: lookup '8501': no such host\"\n",
            "WARNING:pyngrok.process.ngrok:t=2025-04-10T18:00:49+0000 lvl=warn msg=\"failed to open private leg\" id=dd01e87a54ad privaddr=['8501']:80 err=\"dial tcp: lookup '8501': no such host\"\n",
            "WARNING:pyngrok.process.ngrok:t=2025-04-10T18:00:50+0000 lvl=warn msg=\"failed to open private leg\" id=cd8f22849ed2 privaddr=['8501']:80 err=\"dial tcp: lookup '8501': no such host\"\n",
            "WARNING:pyngrok.process.ngrok:t=2025-04-10T18:00:51+0000 lvl=warn msg=\"failed to open private leg\" id=27cf53bb9209 privaddr=['8501']:80 err=\"dial tcp: lookup '8501': no such host\"\n",
            "WARNING:pyngrok.process.ngrok:t=2025-04-10T18:01:18+0000 lvl=warn msg=\"failed to open private leg\" id=acf09a05c2ef privaddr=['8501']:80 err=\"dial tcp: lookup '8501': no such host\"\n",
            "WARNING:pyngrok.process.ngrok:t=2025-04-10T18:01:19+0000 lvl=warn msg=\"failed to open private leg\" id=6d0407d41c46 privaddr=['8501']:80 err=\"dial tcp: lookup '8501': no such host\"\n",
            "WARNING:pyngrok.process.ngrok:t=2025-04-10T18:01:22+0000 lvl=warn msg=\"failed to open private leg\" id=5e7ee1418e0a privaddr=['8501']:80 err=\"dial tcp: lookup '8501': no such host\"\n",
            "WARNING:pyngrok.process.ngrok:t=2025-04-10T18:01:22+0000 lvl=warn msg=\"failed to open private leg\" id=2b866113e59b privaddr=['8501']:80 err=\"dial tcp: lookup '8501': no such host\"\n",
            "WARNING:pyngrok.process.ngrok:t=2025-04-10T18:01:25+0000 lvl=warn msg=\"failed to open private leg\" id=437126d5e749 privaddr=['8501']:80 err=\"dial tcp: lookup '8501': no such host\"\n",
            "WARNING:pyngrok.process.ngrok:t=2025-04-10T18:01:26+0000 lvl=warn msg=\"failed to open private leg\" id=86deeac51ecc privaddr=['8501']:80 err=\"dial tcp: lookup '8501': no such host\"\n"
          ]
        }
      ]
    }
  ]
}