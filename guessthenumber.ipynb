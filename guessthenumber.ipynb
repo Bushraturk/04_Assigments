import random

def guess_the_number():
    """Project 2: Guess The Number Game by Computer"""
    number = random.randint(1, 100)
    guesses_left = 5

    # Welcome message
    print("Welcome to the Number Guessing Game!")
    print("I'm thinking of a number between 1 and 100.")
    print("You have 5 guesses to guess the number.")

    # Loop for guessing
    while guesses_left > 0:
        try:
            guess = int(input(f"\nYou have {guesses_left} guesses left. Take a guess: "))
        except ValueError:
            print("Invalid input: Please enter a number.")
            continue

        # Checking the guessed number
        if guess < number:
            print("Too low! Try again.")
        elif guess > number:
            print("Too high! Try again.")
        else:
            print(f"🎉 Congratulations! You guessed the correct number in {5 - guesses_left + 1} tries.")
            return  # Exit the function if the guess is correct

        guesses_left -= 1  # Reduce the guess count

    # If the player runs out of guesses
    print(f"\nYou ran out of guesses. The correct number was {number}. Better luck next time!")

# Run the game
guess_the_number()
